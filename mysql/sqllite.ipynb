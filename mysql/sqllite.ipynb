{
 "cells": [
  {
   "cell_type": "code",
   "execution_count": 1,
   "id": "bef9235c",
   "metadata": {},
   "outputs": [],
   "source": [
    "import sqlite3\n",
    "from sqlite3 import Error"
   ]
  },
  {
   "cell_type": "code",
   "execution_count": 2,
   "id": "7bf38d7a",
   "metadata": {},
   "outputs": [
    {
     "name": "stdout",
     "output_type": "stream",
     "text": [
      "2.6.0\n",
      "2. Query all tasks\n",
      "(0, 'Tennis Court 1', 5, 25, 10000, 200)\n",
      "(1, 'Tennis Court 2', 5, 25, 8000, 200)\n",
      "(2, 'Badminton Court', 0, 15.5, 4000, 50)\n",
      "(3, 'Table Tennis', 0, 5, 320, 10)\n",
      "(4, 'Massage Room 1', 9.9, 80, 4000, 3000)\n",
      "(5, 'Massage Room 2', 9.9, 80, 4000, 3000)\n",
      "(6, 'Squash Court', 3.5, 17.5, 5000, 80)\n",
      "(7, 'Snooker Table', 0, 5, 450, 15)\n",
      "(8, 'Pool Table', 0, 5, 400, 15)\n"
     ]
    }
   ],
   "source": [
    "def create_connection(db_file):\n",
    "    \"\"\" create a database connection to the SQLite database\n",
    "        specified by the db_file\n",
    "    :param db_file: database file\n",
    "    :return: Connection object or None\n",
    "    \"\"\"\n",
    "    conn = None\n",
    "    try:\n",
    "        conn = sqlite3.connect(db_file)\n",
    "        print(sqlite3.version)\n",
    "    except Error as e:\n",
    "        print(e)\n",
    " \n",
    "    return conn\n",
    "\n",
    " \n",
    "def select_all_tasks(conn):\n",
    "    \"\"\"\n",
    "    Query all rows in the tasks table\n",
    "    :param conn: the Connection object\n",
    "    :return:\n",
    "    \"\"\"\n",
    "    cur = conn.cursor()\n",
    "    \n",
    "    query1 = \"\"\"\n",
    "        SELECT *\n",
    "        FROM FACILITIES\n",
    "        \"\"\"\n",
    "    cur.execute(query1)\n",
    " \n",
    "    rows = cur.fetchall()\n",
    " \n",
    "    for row in rows:\n",
    "        print(row)\n",
    "\n",
    "\n",
    "def main():\n",
    "    database = \"sqlite_db_pythonsqlite.db\"\n",
    " \n",
    "    # create a database connection\n",
    "    conn = create_connection(database)\n",
    "    with conn: \n",
    "        print(\"2. Query all tasks\")\n",
    "        select_all_tasks(conn)\n",
    " \n",
    " \n",
    "if __name__ == '__main__':\n",
    "    main()"
   ]
  },
  {
   "cell_type": "code",
   "execution_count": 3,
   "id": "fcc7d952",
   "metadata": {},
   "outputs": [
    {
     "name": "stdout",
     "output_type": "stream",
     "text": [
      "2.6.0\n",
      "2. Query all tasks\n",
      "(0, 'Tennis Court 1', 5, 25, 10000, 200)\n",
      "(1, 'Tennis Court 2', 5, 25, 8000, 200)\n",
      "(2, 'Badminton Court', 0, 15.5, 4000, 50)\n",
      "(3, 'Table Tennis', 0, 5, 320, 10)\n",
      "(4, 'Massage Room 1', 9.9, 80, 4000, 3000)\n",
      "(5, 'Massage Room 2', 9.9, 80, 4000, 3000)\n",
      "(6, 'Squash Court', 3.5, 17.5, 5000, 80)\n",
      "(7, 'Snooker Table', 0, 5, 450, 15)\n",
      "(8, 'Pool Table', 0, 5, 400, 15)\n"
     ]
    }
   ],
   "source": [
    "query1 = main()"
   ]
  },
  {
   "cell_type": "code",
   "execution_count": 4,
   "id": "d34ad1ba",
   "metadata": {},
   "outputs": [
    {
     "name": "stdout",
     "output_type": "stream",
     "text": [
      "2.6.0\n",
      "('Pool Table', 270)\n",
      "('Snooker Table', 240)\n",
      "('Table Tennis', 180)\n"
     ]
    }
   ],
   "source": [
    "\"\"\"Q10: Produce a list of facilities with a total revenue less than 1000.\n",
    "The output of facility name and total revenue, sorted by revenue. Remember\n",
    "that there's a different cost for guests and members! */\n",
    "\"\"\"\n",
    "\n",
    "db_file = \"sqlite_db_pythonsqlite.db\"\n",
    "conn = create_connection(db_file)\n",
    "cur = conn.cursor()\n",
    "\n",
    "query1 =\"\"\" \n",
    "SELECT f.name AS facility, \n",
    "    SUM(CASE WHEN b.memid=0 THEN b.slots*f.guestcost\n",
    "        ELSE b.slots*f.membercost END) AS revenue\n",
    "FROM Bookings as b\n",
    "JOIN Facilities as f\n",
    "    ON b.facid=f.facid\n",
    "GROUP BY f.name\n",
    "HAVING revenue < 1000\n",
    "ORDER BY revenue DESC\n",
    "        \"\"\"\n",
    "cur.execute(query1)\n",
    " \n",
    "rows = cur.fetchall()\n",
    " \n",
    "for row in rows:\n",
    "    print(row)"
   ]
  },
  {
   "cell_type": "code",
   "execution_count": 5,
   "id": "282cdcb3",
   "metadata": {},
   "outputs": [
    {
     "name": "stdout",
     "output_type": "stream",
     "text": [
      "2.6.0\n",
      "('Bader Florence', 'Sarwin Ramnaresh')\n",
      "('Baker Timothy', 'Coplin Joan')\n",
      "('Butters Gerald', 'Genting Matthew')\n",
      "('Farrell Jemima', 'Baker Timothy')\n",
      "('Farrell Jemima', 'Pinker David')\n",
      "('Genting Matthew', 'Rumney Henrietta')\n",
      "('Jones David', 'Jones Douglas')\n",
      "('Joplette Janice', 'Dare Nancy')\n",
      "('Joplette Janice', 'Jones David')\n",
      "('Purview Millicent', 'Hunt John')\n",
      "('Rownam Tim', 'Boothe Tim')\n",
      "('Smith Darren', 'Joplette Janice')\n",
      "('Smith Darren', 'Butters Gerald')\n",
      "('Smith Darren', 'Owen Charles')\n",
      "('Smith Darren', 'Smith Jack')\n",
      "('Smith Darren', 'Mackenzie Anna')\n",
      "('Smith Tracy', 'Worthington-Smyth Henry')\n",
      "('Smith Tracy', 'Purview Millicent')\n",
      "('Smith Tracy', 'Crumpet Erica')\n",
      "('Stibbons Ponder', 'Baker Anne')\n",
      "('Stibbons Ponder', 'Bader Florence')\n",
      "('Tracy Burton', 'Stibbons Ponder')\n"
     ]
    }
   ],
   "source": [
    "\"\"\"Q11: Produce a report of members and who recommended them in alphabetic surname,firstname order \"\"\"\n",
    "\n",
    "conn = create_connection(db_file)\n",
    "cur = conn.cursor()\n",
    "\n",
    "query1 =\"\"\" \n",
    "SELECT m1.surname || \" \" || m1.firstname as member_name, m2.surname || \" \" || m2.firstname as recommender_name\n",
    "FROM Members as m1\n",
    "JOIN Members as m2\n",
    "ON m1.memid = m2.recommendedby\n",
    "WHERE m1.surname != 'GUEST'\n",
    "ORDER BY member_name\n",
    "\"\"\"\n",
    "cur.execute(query1)\n",
    " \n",
    "rows = cur.fetchall()\n",
    " \n",
    "for row in rows:\n",
    "    print(row)"
   ]
  },
  {
   "cell_type": "code",
   "execution_count": 6,
   "id": "c55d2ca0",
   "metadata": {},
   "outputs": [
    {
     "name": "stdout",
     "output_type": "stream",
     "text": [
      "2.6.0\n",
      "('Badminton Court', 344)\n",
      "('Massage Room 1', 421)\n",
      "('Massage Room 2', 27)\n",
      "('Pool Table', 783)\n",
      "('Snooker Table', 421)\n",
      "('Squash Court', 195)\n",
      "('Table Tennis', 385)\n",
      "('Tennis Court 1', 308)\n",
      "('Tennis Court 2', 276)\n"
     ]
    }
   ],
   "source": [
    "\"\"\" Q12: Find the facilities with their usage by member, but not guests \"\"\"\n",
    "\n",
    "conn = create_connection(db_file)\n",
    "cur = conn.cursor()\n",
    "\n",
    "query1 = \"\"\"\n",
    "SELECT f.name AS Facility,\n",
    "    SUM(CASE WHEN b.memid > 0 THEN 1 ELSE 0 END) AS memberusage\n",
    "FROM Facilities AS f\n",
    "JOIN Bookings AS b ON b.facid=f.facid\n",
    "GROUP BY f.name\n",
    "\"\"\"\n",
    "cur.execute(query1)\n",
    " \n",
    "rows = cur.fetchall()\n",
    "    \n",
    "for row in rows:\n",
    "    print(row)"
   ]
  },
  {
   "cell_type": "code",
   "execution_count": 7,
   "id": "4872025d",
   "metadata": {},
   "outputs": [
    {
     "name": "stdout",
     "output_type": "stream",
     "text": [
      "2.6.0\n",
      "('07', 'Table Tennis', 480)\n",
      "('08', 'Tennis Court 1', 1168)\n",
      "('09', 'Tennis Court 1', 1512)\n"
     ]
    }
   ],
   "source": [
    "\"\"\" Q13: Find the facilities usage by month, but not guests \"\"\"\n",
    "\n",
    "conn = create_connection(db_file)\n",
    "cur = conn.cursor()\n",
    "\n",
    "query1 = \"\"\"\n",
    "SELECT strftime('%m', b.starttime) as month, f.name as facility, SUM(CASE WHEN b.memid > 0 THEN 1 ELSE 0 END) AS memberusage\n",
    "FROM Bookings as b\n",
    "JOIN Facilities as f\n",
    "ON b.facid=f.facid\n",
    "GROUP BY month\n",
    "\"\"\"\n",
    "\n",
    "cur.execute(query1)\n",
    " \n",
    "rows = cur.fetchall()\n",
    " \n",
    "for row in rows:\n",
    "    print(row)"
   ]
  }
 ],
 "metadata": {
  "kernelspec": {
   "display_name": "Python 3 (ipykernel)",
   "language": "python",
   "name": "python3"
  },
  "language_info": {
   "codemirror_mode": {
    "name": "ipython",
    "version": 3
   },
   "file_extension": ".py",
   "mimetype": "text/x-python",
   "name": "python",
   "nbconvert_exporter": "python",
   "pygments_lexer": "ipython3",
   "version": "3.9.7"
  }
 },
 "nbformat": 4,
 "nbformat_minor": 5
}
